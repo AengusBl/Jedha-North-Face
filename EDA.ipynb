{
 "cells": [
  {
   "cell_type": "code",
   "execution_count": null,
   "id": "c96474b3",
   "metadata": {},
   "outputs": [
    {
     "data": {
      "text/html": [
       "<div>\n",
       "<style scoped>\n",
       "    .dataframe tbody tr th:only-of-type {\n",
       "        vertical-align: middle;\n",
       "    }\n",
       "\n",
       "    .dataframe tbody tr th {\n",
       "        vertical-align: top;\n",
       "    }\n",
       "\n",
       "    .dataframe thead th {\n",
       "        text-align: right;\n",
       "    }\n",
       "</style>\n",
       "<table border=\"1\" class=\"dataframe\">\n",
       "  <thead>\n",
       "    <tr style=\"text-align: right;\">\n",
       "      <th></th>\n",
       "      <th>id</th>\n",
       "      <th>description</th>\n",
       "    </tr>\n",
       "  </thead>\n",
       "  <tbody>\n",
       "    <tr>\n",
       "      <th>0</th>\n",
       "      <td>1</td>\n",
       "      <td>Active classic boxers - There's a reason why o...</td>\n",
       "    </tr>\n",
       "    <tr>\n",
       "      <th>1</th>\n",
       "      <td>2</td>\n",
       "      <td>Active sport boxer briefs - Skinning up Glory ...</td>\n",
       "    </tr>\n",
       "    <tr>\n",
       "      <th>2</th>\n",
       "      <td>3</td>\n",
       "      <td>Active sport briefs - These superbreathable no...</td>\n",
       "    </tr>\n",
       "    <tr>\n",
       "      <th>3</th>\n",
       "      <td>4</td>\n",
       "      <td>Alpine guide pants - Skin in, climb ice, switc...</td>\n",
       "    </tr>\n",
       "    <tr>\n",
       "      <th>4</th>\n",
       "      <td>5</td>\n",
       "      <td>Alpine wind jkt - On high ridges, steep ice an...</td>\n",
       "    </tr>\n",
       "  </tbody>\n",
       "</table>\n",
       "</div>"
      ],
      "text/plain": [
       "   id                                        description\n",
       "0   1  Active classic boxers - There's a reason why o...\n",
       "1   2  Active sport boxer briefs - Skinning up Glory ...\n",
       "2   3  Active sport briefs - These superbreathable no...\n",
       "3   4  Alpine guide pants - Skin in, climb ice, switc...\n",
       "4   5  Alpine wind jkt - On high ridges, steep ice an..."
      ]
     },
     "execution_count": 4,
     "metadata": {},
     "output_type": "execute_result"
    }
   ],
   "source": [
    "import pandas as pd\n",
    "\n",
    "data_df = pd.read_csv(\"./Data/sample-data.csv\")\n",
    "\n",
    "data_df.head()"
   ]
  },
  {
   "cell_type": "code",
   "execution_count": 5,
   "id": "e152dbcc",
   "metadata": {},
   "outputs": [
    {
     "data": {
      "text/html": [
       "<div>\n",
       "<style scoped>\n",
       "    .dataframe tbody tr th:only-of-type {\n",
       "        vertical-align: middle;\n",
       "    }\n",
       "\n",
       "    .dataframe tbody tr th {\n",
       "        vertical-align: top;\n",
       "    }\n",
       "\n",
       "    .dataframe thead th {\n",
       "        text-align: right;\n",
       "    }\n",
       "</style>\n",
       "<table border=\"1\" class=\"dataframe\">\n",
       "  <thead>\n",
       "    <tr style=\"text-align: right;\">\n",
       "      <th></th>\n",
       "      <th>id</th>\n",
       "      <th>description</th>\n",
       "    </tr>\n",
       "  </thead>\n",
       "  <tbody>\n",
       "    <tr>\n",
       "      <th>0</th>\n",
       "      <td>1</td>\n",
       "      <td>Active classic boxers - There's a reason why o...</td>\n",
       "    </tr>\n",
       "    <tr>\n",
       "      <th>1</th>\n",
       "      <td>2</td>\n",
       "      <td>Active sport boxer briefs - Skinning up Glory ...</td>\n",
       "    </tr>\n",
       "    <tr>\n",
       "      <th>2</th>\n",
       "      <td>3</td>\n",
       "      <td>Active sport briefs - These superbreathable no...</td>\n",
       "    </tr>\n",
       "    <tr>\n",
       "      <th>3</th>\n",
       "      <td>4</td>\n",
       "      <td>Alpine guide pants - Skin in, climb ice, switc...</td>\n",
       "    </tr>\n",
       "    <tr>\n",
       "      <th>4</th>\n",
       "      <td>5</td>\n",
       "      <td>Alpine wind jkt - On high ridges, steep ice an...</td>\n",
       "    </tr>\n",
       "    <tr>\n",
       "      <th>5</th>\n",
       "      <td>6</td>\n",
       "      <td>Ascensionist jkt - Our most technical soft she...</td>\n",
       "    </tr>\n",
       "    <tr>\n",
       "      <th>6</th>\n",
       "      <td>7</td>\n",
       "      <td>Atom - A multitasker's cloud nine, the Atom pl...</td>\n",
       "    </tr>\n",
       "    <tr>\n",
       "      <th>7</th>\n",
       "      <td>8</td>\n",
       "      <td>Print banded betina btm - Our fullest coverage...</td>\n",
       "    </tr>\n",
       "    <tr>\n",
       "      <th>8</th>\n",
       "      <td>9</td>\n",
       "      <td>Baby micro d-luxe cardigan - Micro D-Luxe is a...</td>\n",
       "    </tr>\n",
       "    <tr>\n",
       "      <th>9</th>\n",
       "      <td>10</td>\n",
       "      <td>Baby sun bucket hat - This hat goes on when th...</td>\n",
       "    </tr>\n",
       "    <tr>\n",
       "      <th>10</th>\n",
       "      <td>11</td>\n",
       "      <td>Baby sunshade top - Soft, stretchy polyester f...</td>\n",
       "    </tr>\n",
       "    <tr>\n",
       "      <th>11</th>\n",
       "      <td>12</td>\n",
       "      <td>Baggies shorts - Even Baggies, our most popula...</td>\n",
       "    </tr>\n",
       "    <tr>\n",
       "      <th>12</th>\n",
       "      <td>13</td>\n",
       "      <td>Beach bucket - Whenever you're at the junction...</td>\n",
       "    </tr>\n",
       "    <tr>\n",
       "      <th>13</th>\n",
       "      <td>14</td>\n",
       "      <td>Better sweater jkt - June nights camped out in...</td>\n",
       "    </tr>\n",
       "    <tr>\n",
       "      <th>14</th>\n",
       "      <td>15</td>\n",
       "      <td>Borderless shorts-11 in. - Go forward where ot...</td>\n",
       "    </tr>\n",
       "    <tr>\n",
       "      <th>15</th>\n",
       "      <td>16</td>\n",
       "      <td>Borderless shorts-7 in. - One of summertime's ...</td>\n",
       "    </tr>\n",
       "    <tr>\n",
       "      <th>16</th>\n",
       "      <td>17</td>\n",
       "      <td>Bucket hat - Besides its shade-casting prowess...</td>\n",
       "    </tr>\n",
       "    <tr>\n",
       "      <th>17</th>\n",
       "      <td>18</td>\n",
       "      <td>Cap 1 bottoms - Spring skiing is as transient ...</td>\n",
       "    </tr>\n",
       "    <tr>\n",
       "      <th>18</th>\n",
       "      <td>19</td>\n",
       "      <td>Cap 1 boxer briefs - On bivy or belay, the for...</td>\n",
       "    </tr>\n",
       "    <tr>\n",
       "      <th>19</th>\n",
       "      <td>20</td>\n",
       "      <td>Cap 1 graphic t-shirt - This tee is made from ...</td>\n",
       "    </tr>\n",
       "  </tbody>\n",
       "</table>\n",
       "</div>"
      ],
      "text/plain": [
       "    id                                        description\n",
       "0    1  Active classic boxers - There's a reason why o...\n",
       "1    2  Active sport boxer briefs - Skinning up Glory ...\n",
       "2    3  Active sport briefs - These superbreathable no...\n",
       "3    4  Alpine guide pants - Skin in, climb ice, switc...\n",
       "4    5  Alpine wind jkt - On high ridges, steep ice an...\n",
       "5    6  Ascensionist jkt - Our most technical soft she...\n",
       "6    7  Atom - A multitasker's cloud nine, the Atom pl...\n",
       "7    8  Print banded betina btm - Our fullest coverage...\n",
       "8    9  Baby micro d-luxe cardigan - Micro D-Luxe is a...\n",
       "9   10  Baby sun bucket hat - This hat goes on when th...\n",
       "10  11  Baby sunshade top - Soft, stretchy polyester f...\n",
       "11  12  Baggies shorts - Even Baggies, our most popula...\n",
       "12  13  Beach bucket - Whenever you're at the junction...\n",
       "13  14  Better sweater jkt - June nights camped out in...\n",
       "14  15  Borderless shorts-11 in. - Go forward where ot...\n",
       "15  16  Borderless shorts-7 in. - One of summertime's ...\n",
       "16  17  Bucket hat - Besides its shade-casting prowess...\n",
       "17  18  Cap 1 bottoms - Spring skiing is as transient ...\n",
       "18  19  Cap 1 boxer briefs - On bivy or belay, the for...\n",
       "19  20  Cap 1 graphic t-shirt - This tee is made from ..."
      ]
     },
     "execution_count": 5,
     "metadata": {},
     "output_type": "execute_result"
    }
   ],
   "source": [
    "data_df.head(20)"
   ]
  },
  {
   "cell_type": "code",
   "execution_count": 6,
   "id": "7621c6ea",
   "metadata": {},
   "outputs": [
    {
     "data": {
      "text/plain": [
       "500"
      ]
     },
     "execution_count": 6,
     "metadata": {},
     "output_type": "execute_result"
    }
   ],
   "source": [
    "len(data_df)"
   ]
  },
  {
   "cell_type": "code",
   "execution_count": 10,
   "id": "61b2265c",
   "metadata": {},
   "outputs": [
    {
     "data": {
      "text/markdown": [
       "Merino 1 tank - Finespun and cool enough to lower the temperature of open trail runs, heated crags and the Laiki street market, this silky-soft yet highly durable jersey-knit tank is made with 63% merino wool spun around an all-recycled polyester (37%) core. Super-comfortable on its own in warm temperatures or beneath layers in cooler ones, it offers great technical performance: naturally resisting odor, moving moisture away from the skin and improving dry times, regulating body temperature, and maintaining a consistent stretch. The neck - with a smooth, self-fabric binding -invites ventilation but still covers a bra. We slow-wash our merino for next-to-skin softness. Machine-wash cold; lay flat to dry. Recyclable through the Common Threads Recycling Program.<br><br><b>Details:</b><ul> <li>\"Slow-washed merino wool resists odor naturally, insulates even when wet, is durable, stretches and provides superior performance and softness\"</li> <li>16.5 micron-gauge yarn and jersey-knit construction for luxurious hand</li> <li>\"All-recycled polyester core wicks moisture, while wool next to skin controls odor\"</li> <li>Softly scooped neckline ventilates while still covering bra</li> <li>Self-fabric neck and armhole binding for comfort</li> <li>Straight hem</li> <li>\"Machine-wash cold, lay flat to dry\"</li></ul><br><br><b>Fabric: </b>3.2-oz (108-g) 63% 16.5 micron chlorine-free merino wool/37% all-recycled polyester. Recyclable through the Common Threads Recycling Program<br><br><b>Weight: </b>(60 g 2.1 oz)<br><br>Made in USA."
      ]
     },
     "metadata": {},
     "output_type": "display_data"
    }
   ],
   "source": [
    "from IPython.display import display_markdown\n",
    "display_markdown(data_df.loc[200, \"description\"], raw=True)"
   ]
  },
  {
   "cell_type": "code",
   "execution_count": 11,
   "id": "db0ff1e0",
   "metadata": {},
   "outputs": [
    {
     "data": {
      "text/plain": [
       "id             0\n",
       "description    0\n",
       "dtype: int64"
      ]
     },
     "execution_count": 11,
     "metadata": {},
     "output_type": "execute_result"
    }
   ],
   "source": [
    "data_df.isna().sum()"
   ]
  },
  {
   "cell_type": "code",
   "execution_count": 21,
   "id": "a08e1491",
   "metadata": {},
   "outputs": [
    {
     "data": {
      "text/plain": [
       "500"
      ]
     },
     "execution_count": 21,
     "metadata": {},
     "output_type": "execute_result"
    }
   ],
   "source": [
    "len(data_df[\"id\"].unique())"
   ]
  },
  {
   "cell_type": "code",
   "execution_count": 12,
   "id": "5074bd18",
   "metadata": {},
   "outputs": [
    {
     "data": {
      "text/plain": [
       "count     500.000000\n",
       "mean     1122.180000\n",
       "std       424.608191\n",
       "min       416.000000\n",
       "25%       798.500000\n",
       "50%      1046.000000\n",
       "75%      1393.500000\n",
       "max      3540.000000\n",
       "Name: description, dtype: float64"
      ]
     },
     "execution_count": 12,
     "metadata": {},
     "output_type": "execute_result"
    }
   ],
   "source": [
    "data_df[\"description\"].apply(lambda desc: len(desc)).describe(include=\"all\")"
   ]
  },
  {
   "cell_type": "code",
   "execution_count": null,
   "id": "d9f45a5c",
   "metadata": {},
   "outputs": [
    {
     "data": {
      "text/markdown": [
       "Rock guide shorts - Tough, abrasion-resistant Rock Guides are known to withstand butt-slide descents of the Joshua Tree classic, Clean and Jerk. Made of a technical stretch-woven nylon that's soft on the skin and dries quickly, the shorts have a zip fly, gusseted crotch, front drop-in pockets, a single zippered thigh pocket and rear security pockets. Regular rise; inseam (size 8) is 9\". Recyclable through the Common Threads Recycling Program.<br><br><b>Details:</b><ul> <li>\"Lightweight, stretch-woven nylon; separated zip waist (not pull-on)\"</li> <li>\"Zip fly and button closure; Pockets: 2 front drop-in, zippered on right thigh\"</li> <li>Back zippered pockets below yoke</li> <li>Forward-angled side seams</li> <li>Gusseted crotch</li> <li>Regular rise</li> <li>\"Inseam (size 8) is 9\"\"\"</li></ul><br><br><b>Fabric: </b>4.5-oz 96-denier 96% stretch-woven nylon/4% spandex with Deluge DWR (durable water repellent) finish. Recyclable through the Common Threads Recycling Program<br><br><b>Weight: </b>(225 g 7.8 oz)<br><br>Made in Thailand."
      ]
     },
     "metadata": {},
     "output_type": "display_data"
    },
    {
     "name": "stdout",
     "output_type": "stream",
     "text": [
      "\n",
      "\n",
      "\n"
     ]
    },
    {
     "data": {
      "text/markdown": [
       "Solid adour btm - Adours feature a scooped, low-rise front (lined) and medium coverage in back. Our improved fabric blend is made of 82% nylon/18% spandex.<br><br><b>Details:</b><ul> <li>Medium coverage</li> <li>Lined front</li> <li>Slightly scooping front</li> <li>Low rise</li> <li>Improved fabric</li></ul><br><br><b>Fabric: </b>5.6-oz 82% nylon/18% spandex<br><br><b>Weight: </b>(43 g 1.5 oz)<br><br>Made in USA."
      ]
     },
     "metadata": {},
     "output_type": "display_data"
    },
    {
     "name": "stdout",
     "output_type": "stream",
     "text": [
      "\n",
      "\n",
      "\n"
     ]
    },
    {
     "data": {
      "text/markdown": [
       "Print bibiana tankini - The Bibiana Tankini's racerback style won't impede shoulder blade movement and has a 360-degree shelf bra for secure support. Full-length coverage gives extra sun and rash protection. Made from a blend of 82% nylon/18% spandex.<br><br><b>Details:</b><ul> <li>Racerback style</li> <li>360-degree shelf bra</li> <li>Full length coverage</li> <li>Improved fabric</li></ul><br><br><b>Fabric: </b>5.6-oz 82% nylon/18% spandex<br><br><b>Weight: </b>(89 g 3.1 oz)<br><br>Made in USA."
      ]
     },
     "metadata": {},
     "output_type": "display_data"
    },
    {
     "name": "stdout",
     "output_type": "stream",
     "text": [
      "\n",
      "\n",
      "\n"
     ]
    },
    {
     "data": {
      "text/markdown": [
       "R1 p/o - Here's to trails that circle the globe and to never-ending hand cracks. And here's to staying mobile, comfortable and warm with the R1 Pullover's high/low grid polyester that stretches, breathes, moves moisture, and insulates. Sized to accommodate light underlayers, it works as a stand-alone top or as a light midlayer. Recyclable through the Common Threads Recycling Program.<br><br><b>Details:</b><ul> <li>\"Recycled polyester R1 fabric provides excellent stretch, warmth, wicking and breathability in a variety of temperatures, whether worn as lightweight insulation or a thermal baselayer\"</li> <li>Lightweight yarns wick moisture</li> <li>Outer microfiber yarns speed evaporation</li> <li>Interior grid enhances compressibility and airflow</li> <li>\"Jersey microfiber face for low-friction, nonbinding layering\"</li></ul><br><br><b>Fabric: </b>R1: 6.5-oz Polartec Power Dry 93% polyester (60% recycled)/7% spandex. Recyclable through the Common Threads Recycling Program<br><br><b>Weight: </b>257 g (9.1 oz)<br><br>Made in Colombia."
      ]
     },
     "metadata": {},
     "output_type": "display_data"
    },
    {
     "name": "stdout",
     "output_type": "stream",
     "text": [
      "\n",
      "\n",
      "\n"
     ]
    },
    {
     "data": {
      "text/markdown": [
       "Guidewater waders - king - We built our Guidewater Waders to be the toughest, most puncture-resistant waterproof/breathable wader on the planet. Of course, we couldn't just stop there. Nope. They also had to be extremely lightweight while offering a groundbreaking level of comfort and convenience. In other words, the ultimate wader. We started by strategically placing varying weights of our proprietary waterproof/breathable polyester microfiber fabric package with H2No Hydrostorm barrier according to specific breathablility or toughness needs. The result? Max durability and flexibility without resorting to excessive heavy, sweat-trapping multiple layers. Our revolutionary merino wool grid-lined neoprene booties increase warmth to double that of normal nylon faced neoprene as it wicks perspiration creating guilt-inducing levels of foot comfort. The most advanced version of our innovative internal suspension system allows easy conversion to waist height and - this is critical - quick relief without having to remove your jacket or fight sticky zippers. More features: sculpted upper for reduced drag in heavy currents, anatomically designed left and right legs and booties, built in fabric gravel guards with abrasion-resistant scuff zones and high-filtration mesh drain strip. Field repair kit included.<br><br><b>Details:</b><ul> <li>\"Polyester microfiber shell, with a proprietary waterproof/breathable H2No Hydrostorm barrier and Deluge DWR (durable water repellent) finish, is highly durable and puncture resistant without excessive multiple layers or added weight; Inside zippered main pocket (with piggyback mesh pocket and internal key/tool loop) flips out for quick access\"</li> <li>\"Unique, waist-mounted suspender allows easy conversion from chest to waist height, and  provides quick relief without having to remove jacket or fight hard-to-operate zippers; TPU post and slot design on front and back of suspenders offers security when wading deep and for roll down, waist high comfort\"</li> <li>Anatomically curved knees and modified Y-Joint crotch; inside leg seams are positioned away from wear zones</li> <li>\"Specifically designed left and right legs and booties; built-in, heavyweight reinforcement fabric gravel guards with abrasion resistance scuff zones\"</li> <li>\"Built-in, heavyweight reinforcement fabric gravel guards with abrasion resistance scuff zones and high filtration drain strip; 1 1/4\"\" gripper elastic gravel guard cuffs\"</li> <li>\"Concealed stainless steel, locking boot hooks secure cuff to boot and avoid line catch; Stretch Wading Belt with a quick-release DuraFlex Stealth-V buckle provides smooth function and an easy adjustable fit\"</li> <li>Field repair kit included</li></ul><br><br><b>Fabric: </b>\"Upper: 3-layer, 50-denier twill-woven polyester microfiber shell with a proprietary waterproof/breathable H2No Hydrostorm barrier and Deluge DWR finish. Lower torso: 3-layer, 7-oz polyester microfiber reinforcement fabric with proprietary waterproof/breathable H2No Hydrostorm barrier and Deluge DWR finish. Seat and legs: 3-layer, 8.2-oz polyester double weave microfiber reinforcement fabric with proprietary H2No Hydrostorm barrier and Deluge DWR finish. Gravel guards: 6.35-oz polyester microfiber double weave with Deluge DWR finish, abrasion resistant scuff patches and a high filtration polyester mesh (100% recycled) drainage strip. Booties: merino wool grid-lined 3-mm neoprene with abrasion-resistant fabric soles\"<br><br><b>Weight: </b>(1188 g 41.2 oz)<br><br>Made in China."
      ]
     },
     "metadata": {},
     "output_type": "display_data"
    },
    {
     "name": "stdout",
     "output_type": "stream",
     "text": [
      "\n",
      "\n",
      "\n"
     ]
    },
    {
     "data": {
      "text/markdown": [
       "Down sweater - There's much to see 14,000 feet up at the Chasm View bivy: a vertigo-inducing panorama of the Diamond and alpenglow over the Rockies. There's also chilly air in any season, and that's where our Down Sweater comes in. It delivers minimal weight, superb compressibility and high-loft warmth. The ripstop shell (1.4-oz 22-denier) with a DWR (durable water repellent) finish does more than look sharp: It's tear-resistant and windproof and made from 100% all-recycled polyester. Details include top-quality 800-fill-power goose down, a quilted-through construction, two exterior zippered pockets, a stretch-mesh interior chest pocket that doubles as a zippered stuff sack and a carabiner clip-in loop. Drawcord hem.<br><br><b>Details:</b><ul> <li>\"Superlight, windproof and water-resistant shell has high tear-strength\"</li> <li>Quilted construction stabilizes premium 800-fill-power goose down</li> <li>External pockets: two zippered handwarmers</li> <li>Internal pocket: one zippered stretch-mesh that doubles as a stuff sack with carabiner clip-in loop</li> <li>Nylon-bound elastic cuffs</li> <li>Drawcord hem</li></ul><br><br><b>Fabric: </b>Shell and lining: 1.4-oz 22-denier 100% all-recycled polyester ripstop with a Deluge DWR (durable water repellent) finish. Insulation: 800-fill-power premium European goose down<br><br><b>Weight: </b>343 g (12.1 oz)<br><br>Made in China."
      ]
     },
     "metadata": {},
     "output_type": "display_data"
    },
    {
     "name": "stdout",
     "output_type": "stream",
     "text": [
      "\n",
      "\n",
      "\n"
     ]
    }
   ],
   "source": [
    "# Since there is so much variation in the length of the docs, I want to see if the formatting is different between them\n",
    "\n",
    "samples_lens = [int(i) for i in data_df[\"description\"].apply(lambda desc: len(desc)).describe().to_list()]\n",
    "\n",
    "for desc in data_df[\"description\"].to_list():\n",
    "    if len(desc) in samples_lens:\n",
    "        display_markdown(desc, raw=True)\n",
    "        print(\"\\n\\n\")"
   ]
  },
  {
   "cell_type": "markdown",
   "id": "0a2a8dee",
   "metadata": {},
   "source": [
    "The format always seems to be:\n",
    "```md\n",
    "[product description]\n",
    "Details:\n",
    "[bullet points]\n",
    "Fabric: [description of the fabric]\n",
    "Weight: [Weight in grams and then in ounces. The parentheses aren't consistent, but I should just make sure they get removed with the rest of the punctuation.]\n",
    "Made in [Country]\n",
    "```\n",
    "Maybe I can make sure the different places in the template get encoded somehow. Although the lower in the document, the least relevant to a recommendation engine the information seems to be: Maybe some information can simply be removed."
   ]
  },
  {
   "cell_type": "code",
   "execution_count": null,
   "id": "6fdc3e4c",
   "metadata": {},
   "outputs": [],
   "source": []
  }
 ],
 "metadata": {
  "kernelspec": {
   "display_name": "north_face_env",
   "language": "python",
   "name": "python3"
  },
  "language_info": {
   "codemirror_mode": {
    "name": "ipython",
    "version": 3
   },
   "file_extension": ".py",
   "mimetype": "text/x-python",
   "name": "python",
   "nbconvert_exporter": "python",
   "pygments_lexer": "ipython3",
   "version": "3.13.5"
  }
 },
 "nbformat": 4,
 "nbformat_minor": 5
}
